{
 "cells": [
  {
   "cell_type": "code",
   "execution_count": 1,
   "metadata": {
    "collapsed": false
   },
   "outputs": [],
   "source": [
    "# Import relevant modules\n",
    "\n",
    "%matplotlib inline\n",
    "%load_ext autoreload\n",
    "%autoreload 2\n",
    "\n",
    "import numpy as np\n",
    "import corner\n",
    "import matplotlib.pyplot as plt\n",
    "from matplotlib import rcParams"
   ]
  },
  {
   "cell_type": "code",
   "execution_count": 2,
   "metadata": {
    "collapsed": false
   },
   "outputs": [
    {
     "ename": "ImportError",
     "evalue": "No module named 'NPTFit'",
     "output_type": "error",
     "traceback": [
      "\u001b[0;31m---------------------------------------------------------------------------\u001b[0m",
      "\u001b[0;31mImportError\u001b[0m                               Traceback (most recent call last)",
      "\u001b[0;32m<ipython-input-2-f1468c6dd657>\u001b[0m in \u001b[0;36m<module>\u001b[0;34m()\u001b[0m\n\u001b[0;32m----> 1\u001b[0;31m \u001b[0;32mfrom\u001b[0m \u001b[0mNPTFit\u001b[0m \u001b[0;32mimport\u001b[0m \u001b[0mnptfit\u001b[0m \u001b[0;31m# module for performing scan\u001b[0m\u001b[0;34m\u001b[0m\u001b[0m\n\u001b[0m\u001b[1;32m      2\u001b[0m \u001b[0;32mfrom\u001b[0m \u001b[0mNPTFit\u001b[0m \u001b[0;32mimport\u001b[0m \u001b[0mcreate_mask\u001b[0m \u001b[0;32mas\u001b[0m \u001b[0mcm\u001b[0m \u001b[0;31m# module for creating the mask\u001b[0m\u001b[0;34m\u001b[0m\u001b[0m\n\u001b[1;32m      3\u001b[0m \u001b[0;32mfrom\u001b[0m \u001b[0mNPTFit\u001b[0m \u001b[0;32mimport\u001b[0m \u001b[0mpsf_correction\u001b[0m \u001b[0;32mas\u001b[0m \u001b[0mpc\u001b[0m \u001b[0;31m# module for determining the PSF correction\u001b[0m\u001b[0;34m\u001b[0m\u001b[0m\n\u001b[1;32m      4\u001b[0m \u001b[0;32mfrom\u001b[0m \u001b[0mNPTFit\u001b[0m \u001b[0;32mimport\u001b[0m \u001b[0mdnds_analysis\u001b[0m \u001b[0;31m# module for analysing the output\u001b[0m\u001b[0;34m\u001b[0m\u001b[0m\n",
      "\u001b[0;31mImportError\u001b[0m: No module named 'NPTFit'"
     ]
    }
   ],
   "source": [
    "from NPTFit import nptfit # module for performing scan\n",
    "from NPTFit import create_mask as cm # module for creating the mask\n",
    "from NPTFit import psf_correction as pc # module for determining the PSF correction\n",
    "from NPTFit import dnds_analysis # module for analysing the output"
   ]
  },
  {
   "cell_type": "code",
   "execution_count": 2,
   "metadata": {
    "collapsed": true
   },
   "outputs": [],
   "source": [
    "n = nptfit.NPTF(tag='flux_temp')"
   ]
  },
  {
   "cell_type": "code",
   "execution_count": 4,
   "metadata": {
    "collapsed": false
   },
   "outputs": [],
   "source": [
    "fake_data = np.load('../data/fake_data_blazars.npy')\n",
    "fake_exposure = np.ones(len(fake_data))\n",
    "n.load_data(fake_data,fake_exposure)\n",
    "#fermi_data = np.load('../fermi_data/fermidata_counts.npy')\n",
    "#fermi_exposure = np.load('../fermi_data/fermidata_exposure.npy')\n",
    "#n.load_data(fermi_data, fermi_exposure)"
   ]
  },
  {
   "cell_type": "code",
   "execution_count": 5,
   "metadata": {
    "collapsed": false
   },
   "outputs": [
    {
     "data": {
      "image/png": "[encoded data removed]",
      "text/plain": [
       "<matplotlib.figure.Figure at 0x2b820c002810>"
      ]
     },
     "metadata": {},
     "output_type": "display_data"
    }
   ],
   "source": [
    "import healpy as hp\n",
    "\n",
    "analysis_mask = cm.make_mask_total(mask_ring = True, inner = 20, outer = 180, ring_b = 0, ring_l = 0,band_mask = True, band_mask_range = 5)\n",
    "hp.mollview(analysis_mask)\n",
    "n.load_mask(analysis_mask)"
   ]
  },
  {
   "cell_type": "code",
   "execution_count": 6,
   "metadata": {
    "collapsed": false
   },
   "outputs": [],
   "source": [
    "dif = np.load('../fermi_data/template_dif.npy')\n",
    "iso = np.load('../fermi_data/template_iso.npy')\n",
    "bub = np.load('../fermi_data/template_bub.npy')\n",
    "psc = np.load('../fermi_data/template_psc.npy')\n",
    "nfw = np.load('../data/template_nfw_sources.npy')\n",
    "\n",
    "n.add_template(iso,'iso')\n",
    "n.add_template(dif, 'dif')\n",
    "n.add_template(bub,'bub')\n",
    "n.add_template(psc,'psc')\n",
    "n.add_template(nfw,'nfw')"
   ]
  },
  {
   "cell_type": "code",
   "execution_count": 7,
   "metadata": {
    "collapsed": true
   },
   "outputs": [],
   "source": [
    "n.add_poiss_model('iso','$A_\\mathrm{iso}$',[0,2],False)\n",
    "n.add_poiss_model('dif','$A_\\mathrm{dif}$',[10,20],False)"
   ]
  },
  {
   "cell_type": "code",
   "execution_count": 8,
   "metadata": {
    "collapsed": true
   },
   "outputs": [],
   "source": [
    "n.add_non_poiss_model('nfw',\n",
    "                      ['$A^\\mathrm{ps}_\\mathrm{nfw}$','$n_1$','$n_2$','$S_b$'],\n",
    "                      [[-6,1],[2.05,30],[-5,1.95],[np.log10(10),np.log10(500)]],\n",
    "                      [True,False,False,True])\n",
    "n.add_non_poiss_model('iso',\n",
    "                      ['$A^\\mathrm{ps}_\\mathrm{iso}$','$n_1$','$n_2$','$S_b$'],\n",
    "                      [[-6,1],[2.05,30],[-5,1.95],[np.log10(1),np.log10(500)]],\n",
    "                      [True,False,False,True])"
   ]
  },
  {
   "cell_type": "code",
   "execution_count": 12,
   "metadata": {
    "collapsed": false
   },
   "outputs": [
    {
     "name": "stdout",
     "output_type": "stream",
     "text": [
      "Loading the psf correction from: /group/hepheno/ljchang/Fermi-Subhalos-NPTF/notebooks/psf_dir/gauss_128_0.181_10_50000_1000_0.01.npy\n",
      "The number of parameters to be fit is 10\n"
     ]
    }
   ],
   "source": [
    "pc_inst = pc.PSFCorrection(psf_sigma_deg=0.1812)\n",
    "f_ary = pc_inst.f_ary\n",
    "df_rho_div_f_ary = pc_inst.df_rho_div_f_ary\n",
    "\n",
    "n.configure_for_scan(f_ary=f_ary, df_rho_div_f_ary=df_rho_div_f_ary, nexp=1)"
   ]
  },
  {
   "cell_type": "code",
   "execution_count": 9,
   "metadata": {
    "collapsed": true
   },
   "outputs": [],
   "source": [
    "n.perform_scan(nlive=250)"
   ]
  }
 ],
 "metadata": {
  "anaconda-cloud": {},
  "kernelspec": {
   "display_name": "Python [conda root]",
   "language": "python",
   "name": "conda-root-py"
  },
  "language_info": {
   "codemirror_mode": {
    "name": "ipython",
    "version": 3
   },
   "file_extension": ".py",
   "mimetype": "text/x-python",
   "name": "python",
   "nbconvert_exporter": "python",
   "pygments_lexer": "ipython3",
   "version": "3.5.2"
  }
 },
 "nbformat": 4,
 "nbformat_minor": 1
}
